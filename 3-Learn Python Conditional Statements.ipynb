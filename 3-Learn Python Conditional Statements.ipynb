{
 "cells": [
  {
   "attachments": {},
   "cell_type": "markdown",
   "metadata": {},
   "source": [
    "## Learn Python Conditional Statements\n",
    "\n",
    "\n",
    "\n",
    "<b>Web Resources</b><br> \n",
    "<a href='https://docs.python.org/3/tutorial/controlflow.html#if-statements'>Docs.python.org - Conditional Statements</a><br>\n",
    "<a href='https://en.wikiversity.org/wiki/Python_Concepts/If_Statement'>Python Wiki - If Statement</a>\n",
    "\n",
    "\n",
    "#### What are Python Conditionals?####\n",
    "When you write code, you are giving instructions to the computer. When you are completing a task in the real world, however, you don't just step through a sequence of instructions blindly. Depending on what else is going on, you will want to adapt your actions. The Python conditional allows you to encode these instructions so that the computer can dynamically adapt to the conditions around it. This is often referred to as <b>control flow</b>.\n",
    "\n",
    "#### What types of Python Conditionals are there?####\n",
    "We'll go through the three keywords for Python conditionals: <b>if</b>, <b>else</b>, and <b>elif</b>.\n",
    "\n",
    "In Python, the <b>if</b> statement allows you to control the flow of your code based on a logical condition. The constituents of an if statement are \n",
    "- if\n",
    "- (optional) else\n",
    "- (optional) elif\n",
    "\n",
    "#### If####\n",
    "The most basic <b>if</b> statement has a <b>conditional clause</b> and an indented (nested) block of code that only gets executed when that conditional clause is true.\n",
    "\n",
    "<b>if</b> &lt;Conditional Clause&gt;<b>:</b><br>\n",
    "&nbsp;&nbsp;&nbsp;&nbsp;&lt;Line 1 of code that possibly gets executed...Line 1&gt;<br>\n",
    "&nbsp;&nbsp;&nbsp;&nbsp;&lt;Line 2 of code that possibly gets executed...Line 2&gt;    "
   ]
  },
  {
   "cell_type": "code",
   "execution_count": null,
   "metadata": {},
   "outputs": [],
   "source": []
  },
  {
   "cell_type": "markdown",
   "metadata": {},
   "source": [
    "Note that the colon at the end of the conditional clause is mandatory. The block of code following the colon needs to be indented. Your Python text editor will automatically try to indent this block of code for you when you press Enter on a line ending with a colon.\n",
    "\n",
    "\n",
    "##### We can use logical operators to make more complex comparisons."
   ]
  },
  {
   "cell_type": "code",
   "execution_count": null,
   "metadata": {},
   "outputs": [],
   "source": [
    "temp = 72\n",
    "\n",
    "if temp > 68 and temp < 82: \n",
    "    print('It is a nice day outside')"
   ]
  },
  {
   "cell_type": "markdown",
   "metadata": {},
   "source": [
    "You can have multiple lines of code in any of the blocks. The indentation of the block indicates which lines are part of the control flow. \n",
    "\n",
    "- Note below there are multiple lines of code in the \"if\" block. \n",
    "\n",
    "- And note also that the line printing out \"The special of the day is\" will get executed no matter what. The indentation places the <b>print('The special of the day is')</b> line outside of the if/else conditional."
   ]
  },
  {
   "cell_type": "markdown",
   "metadata": {},
   "source": [
    "#### Elif####\n",
    "The <b>elif</b> statement allows you to chain together <b>else</b> statements for multiple conditionals. "
   ]
  },
  {
   "cell_type": "code",
   "execution_count": null,
   "metadata": {},
   "outputs": [],
   "source": []
  },
  {
   "cell_type": "markdown",
   "metadata": {},
   "source": [
    "#### Nested Ifs####\n",
    "You can nest if statements inside other if statements.\n"
   ]
  },
  {
   "cell_type": "code",
   "execution_count": null,
   "metadata": {},
   "outputs": [],
   "source": [
    "temp = 70\n",
    "humidity = 100\n",
    "\n",
    "if temp > 68 and temp <= 82:\n",
    "    if humidity <= 60:\n",
    "        print(\"It's really nice out\")\n",
    "    else:\n",
    "        print(\"It's warm, but too humid out there\")\n",
    "elif temp >82:\n",
    "    print(\"It's very hot out\")\n",
    "else:\n",
    "    print(\"It's cold out there.\")\n",
    "        "
   ]
  },
  {
   "cell_type": "markdown",
   "metadata": {},
   "source": [
    "## Example Conditionals##"
   ]
  },
  {
   "attachments": {},
   "cell_type": "markdown",
   "metadata": {},
   "source": [
    "<b>1 - Days in the month</b>\n",
    "\n",
    "Code to determine the number of days in the current month. We can assume it's not a leap year.\n",
    "\n",
    "\n"
   ]
  },
  {
   "cell_type": "code",
   "execution_count": null,
   "metadata": {},
   "outputs": [],
   "source": [
    "#the provided code below determines the current month\n",
    "import datetime\n",
    "today_dt = datetime.date.today()\n",
    "current_month = today_dt.month\n",
    "print(current_month)\n",
    "\n",
    "#code to determine the number of days in the current month\n"
   ]
  },
  {
   "attachments": {},
   "cell_type": "markdown",
   "metadata": {},
   "source": [
    "<b>2 - PE Ratio in a range?</b>\n",
    "\n",
    "If you are an investor who likes to buy stocks with moderate PE Ratios, you may buy anything with P/E between 10 and 35. You may not be interested if it's between 0 and 10, or between 35 and 50. But you may want to short companies with really high P/E's (>50) or negative P/E's.\n",
    "\n",
    "Write a code that evaluates a stock's P/E Ratio, and prints out if you should Buy, Short, or do nothing with the stock (Hold)."
   ]
  },
  {
   "cell_type": "code",
   "execution_count": 2,
   "metadata": {},
   "outputs": [],
   "source": [
    "pe_ratio = 36\n",
    "\n",
    "#Write the code bellow"
   ]
  },
  {
   "cell_type": "code",
   "execution_count": null,
   "metadata": {},
   "outputs": [],
   "source": []
  }
 ],
 "metadata": {
  "kernelspec": {
   "display_name": "Python 3",
   "language": "python",
   "name": "python3"
  },
  "language_info": {
   "codemirror_mode": {
    "name": "ipython",
    "version": 3
   },
   "file_extension": ".py",
   "mimetype": "text/x-python",
   "name": "python",
   "nbconvert_exporter": "python",
   "pygments_lexer": "ipython3",
   "version": "3.11.0"
  },
  "vscode": {
   "interpreter": {
    "hash": "c261aea317cc0286b3b3261fbba9abdec21eaa57589985bb7a274bf54d6cc0a7"
   }
  }
 },
 "nbformat": 4,
 "nbformat_minor": 4
}
