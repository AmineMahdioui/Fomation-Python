{
 "cells": [
  {
   "attachments": {},
   "cell_type": "markdown",
   "metadata": {},
   "source": [
    "## Learn Python Loops\n",
    "\n",
    "\n",
    "<b>Web Resources</b>\n",
    "<br> <a href='https://docs.python.org/3/tutorial/controlflow.html#for-statements'>Docs.python.org - Control Flow</a>\n",
    "<br> <a href='https://docs.python.org/3/tutorial/datastructures.html#looping-techniques'>Docs.python.org - Looping Techniques</a>\n",
    "\n",
    "#### <b>What are Python Loops?</b>\n",
    "In the real world, you often need to repeat something over and over. It can be repetitive. When programming, though, if you need to do something 100 times, you certainly don't need to write it out in 100 identical lines of code. In Python, loops allow you to iterate over a sequence, whether that's a list, tuple, string, or dictionary.\n",
    "\n",
    "#### <b>What types of Python Loops are there?</b>\n",
    "There is a <b>for</b> loop and a <b>while</b> loop. We'll also go through list comprehensions, as a \"Pythonic\" powerful shortcut for operating on all the members of a list in a single line of code.\n",
    "\n",
    "#### <b>The for statement</b>\n",
    "\n",
    "A \"for\" loop in Python allows you to go through each item in a sequence, one at a time. This allows you to \"iterate\" through an \"iterable\", such as a Python list, and perform operations on each item one at a time.\n",
    "\n",
    "The simplest example is to step through the items in a list:"
   ]
  },
  {
   "cell_type": "code",
   "execution_count": null,
   "metadata": {},
   "outputs": [],
   "source": [
    "# In the below example, the for loop will step through each item in my_list, assign the element to a local variable (\"x\"), \n",
    "# and execute the block of code below it to print out x\n",
    "\n",
    "my_list = [10, 20, 30, 40, 50, 60]\n",
    "\n"
   ]
  },
  {
   "cell_type": "markdown",
   "metadata": {},
   "source": [
    "#### <b>The range() function</b>\n",
    "In most cases, we will want to loop through a predetermined list. However, we can also generate a list to loop over \"on the fly\" with the <b>range()</b> function."
   ]
  },
  {
   "cell_type": "code",
   "execution_count": null,
   "metadata": {},
   "outputs": [],
   "source": []
  },
  {
   "cell_type": "markdown",
   "metadata": {},
   "source": [
    "You can use the <b>range()</b> function together with the <b>len()</b> function to loop through a list, along with a variable that has the current index in the sequence."
   ]
  },
  {
   "cell_type": "code",
   "execution_count": null,
   "metadata": {},
   "outputs": [],
   "source": [
    "my_list = [10, 20, 30, 40, 50, 60]\n",
    "\n"
   ]
  },
  {
   "cell_type": "markdown",
   "metadata": {},
   "source": [
    "#### <b>Enumerate</b>\n",
    "You can achieve the same effect as above by using the enumerate() function, to get two values each step through the loop.\n"
   ]
  },
  {
   "cell_type": "code",
   "execution_count": null,
   "metadata": {},
   "outputs": [],
   "source": []
  },
  {
   "cell_type": "markdown",
   "metadata": {},
   "source": [
    "#### <b>Loop through the characters in a string</b>\n",
    "You can also loop through all characters in a string of text in order. "
   ]
  },
  {
   "cell_type": "code",
   "execution_count": null,
   "metadata": {},
   "outputs": [],
   "source": [
    "s = \"One at a time\"\n"
   ]
  },
  {
   "cell_type": "markdown",
   "metadata": {},
   "source": [
    "#### <b>Looping through a dictionary</b>\n",
    "#### keys()\n",
    "You can step through the keys of a dictionary."
   ]
  },
  {
   "cell_type": "code",
   "execution_count": null,
   "metadata": {},
   "outputs": [],
   "source": [
    "my_dict = {'AAPL': 100, 'MSFT': 200, 'GOOG': 300, 'CSCO': 400}\n"
   ]
  },
  {
   "cell_type": "markdown",
   "metadata": {},
   "source": [
    "#### items()\n",
    "Alternatively, you can step through all the items in the dictionary. Each item is a key-value pair.\n",
    "\n",
    "\n",
    "    "
   ]
  },
  {
   "cell_type": "code",
   "execution_count": null,
   "metadata": {},
   "outputs": [],
   "source": [
    "my_dict = {'AAPL': 100, 'MSFT': 200, 'GOOG': 300, 'CSCO': 400}\n",
    "\n"
   ]
  },
  {
   "cell_type": "markdown",
   "metadata": {},
   "source": [
    "#### <b>The while loop</b>\n",
    "Though not used as frequently as the <b>for</b> loop, the <b>while</b> loop allows you to execute a block of code until a certain condition is met. If you don't know before-hand how many times to iterate, then a <b>while</b> loop may be appropriate."
   ]
  },
  {
   "cell_type": "code",
   "execution_count": null,
   "metadata": {},
   "outputs": [],
   "source": [
    "\n",
    "\n"
   ]
  },
  {
   "cell_type": "markdown",
   "metadata": {},
   "source": [
    "#### <b>List Comprehensions (somewhat advanced)</b>\n",
    "List comprehensions provide a convenient shorthand to create a new list from an existing list by performing an operation on each member of the original list. The general syntax for a simple list_comprehension looks like:\n",
    "\n",
    "[<i>python_expression_that_can_reference_var_name</i> <b>for</b> <i>var_name</i> <b>in</b> <i>list_name</i>]\n",
    "\n",
    "Below is an example of using a list comprehension to create a list of the squares of an original list."
   ]
  },
  {
   "cell_type": "code",
   "execution_count": null,
   "metadata": {},
   "outputs": [],
   "source": [
    "my_list = [1,2,5,7,12,17]\n",
    "# create a list of each element squared using list comprehensions"
   ]
  },
  {
   "cell_type": "markdown",
   "metadata": {},
   "source": [
    "You could achieve the exact same effect with a <b>for</b> loop. The above list comprehension is a more compact way to express the below for loop:"
   ]
  },
  {
   "cell_type": "code",
   "execution_count": null,
   "metadata": {},
   "outputs": [],
   "source": [
    "my_list = [1,2,5,7,12,17]\n",
    "#write the code using a for loop"
   ]
  },
  {
   "cell_type": "markdown",
   "metadata": {},
   "source": [
    "#### <b>List Comprehensions with conditioning (somewhat advanced)</b>\n",
    "You can also apply a filtering to each of the elements in the list comprehension. The general syntax looks like:\n",
    "\n",
    "[<i>python_expression_that_can_reference_var_name</i> <b>for</b> <i>var_name</i> <b>in</b> <i>list_name</i><b> if </b><i>python_expression_conditional</i>]\n",
    "\n",
    "The above looks confusing to look at in general terms, but here is a concrete example that may be more clear. We use a list comprehension to get the squares of a list of integers, but we filter out any \"bad\" data:"
   ]
  },
  {
   "cell_type": "code",
   "execution_count": null,
   "metadata": {},
   "outputs": [],
   "source": [
    "my_unfiltered_list = [1,2,None, 5,7,12, 'twenty', 17]\n",
    "# find the square of all integers in the list using list comprehensions"
   ]
  },
  {
   "cell_type": "markdown",
   "metadata": {},
   "source": [
    "The above list comprehension can be replicated, as below, by a <b>for</b> loop and <b>if</b> statements. Once you get the hang of it, the list comprehension is a more readable piece of code."
   ]
  },
  {
   "cell_type": "code",
   "execution_count": null,
   "metadata": {},
   "outputs": [],
   "source": [
    "my_unfiltered_list = [1,2,None, 5,7,12, 'twenty', 17]\n"
   ]
  },
  {
   "cell_type": "markdown",
   "metadata": {},
   "source": [
    "## Example Loops\n",
    "\n",
    "<b>1 - Count the number of even elements in a list </b>\n",
    "\n",
    "Loop through my_list_1 and keep a counter of all the even numbers in the list. The code below shows how to do this using a For Loop and List Comprehension.\n"
   ]
  },
  {
   "cell_type": "code",
   "execution_count": null,
   "metadata": {},
   "outputs": [],
   "source": [
    "my_list_1 = [252, 9, 258, 220, 249, 83, 195, 298, 228, 67, 233, 133, 280, 96, 53, 204, \n",
    "            247, 268, 115, 127, 215, 214, 221, 275, 224, 36, 292, 145, 150, 17, 93, \n",
    "            292, 206, 229, 189, 41, 246, 279, 158, 161, 90, 47, 195, 137, 171, 5, \n",
    "            206, 106, 58, 226, 140, 6, 29, 277, 192, 47, 296, 90, 19, 290, 235, 229, \n",
    "            26, 8, 220, 168, 294, 238, 138, 150, 13, 143, 209, 102, 192, 2, 140, 6, 99, 189\n",
    "            ]\n"
   ]
  },
  {
   "cell_type": "code",
   "execution_count": null,
   "metadata": {},
   "outputs": [],
   "source": [
    "#Using a for loop\n"
   ]
  },
  {
   "cell_type": "code",
   "execution_count": null,
   "metadata": {},
   "outputs": [],
   "source": [
    "#Using a list comprehension\n"
   ]
  },
  {
   "cell_type": "markdown",
   "metadata": {},
   "source": [
    "<b>2 - Find Stocks with PE Ratio in a certain range </b>\n",
    "\n",
    "Using the code below, you start with a dictionary of stocks and come up with a list of stocks that have a PE ratio between 10 and 15.\n"
   ]
  },
  {
   "cell_type": "code",
   "execution_count": null,
   "metadata": {},
   "outputs": [],
   "source": [
    "my_dict_pe={'AXP':9,'VZ':10.2,'BA':None,'CAT':8.3,'JPM':7.9,\n",
    "            'CVX':9.3,'KO':17.9,'DIS':19.1,'MRK':13.7,'MMM':13.3}\n",
    "\n",
    "#code for list of PE stocks in range\n"
   ]
  },
  {
   "cell_type": "markdown",
   "metadata": {},
   "source": [
    "<b>3 - Calculate the Market Value on a Portfolio </b>\n",
    "\n",
    "Loop through the shares list and calculate the position value, multiplying number of shares by the price.\n"
   ]
  },
  {
   "cell_type": "code",
   "execution_count": null,
   "metadata": {},
   "outputs": [],
   "source": [
    "shares = [8000, 3500, 14100, 2100, 1500, 7500, 4800, 2800, 3700, 8200, 900, 1300, 6200, 16200, 500, 2900, 5100, 5000, 10700, 1000, 1100, 16900, 800, 200, 2900, 1700, 500, 800]\n",
    "prices = [60.02, 148.85, 37.76, 213.99, 193.59, 53.85, 123.21, 118.72, 116.74, 68.3, 113.39, 117.23, 130.4, 32.96, 134.45, 86.75, 139.33, 87.58, 38.19, 354.67, 141.34, 11.08, 309.89, 306.56, 19.93, 132.65, 92.92, 46.4]\n",
    "\n",
    "### Your code here\n",
    "\n",
    "\n",
    "print('Position Values: ', )\n",
    "print('Total Portfolio Value: ', )"
   ]
  }
 ],
 "metadata": {
  "kernelspec": {
   "display_name": "Python 3",
   "language": "python",
   "name": "python3"
  },
  "language_info": {
   "codemirror_mode": {
    "name": "ipython",
    "version": 3
   },
   "file_extension": ".py",
   "mimetype": "text/x-python",
   "name": "python",
   "nbconvert_exporter": "python",
   "pygments_lexer": "ipython3",
   "version": "3.11.0"
  },
  "vscode": {
   "interpreter": {
    "hash": "c261aea317cc0286b3b3261fbba9abdec21eaa57589985bb7a274bf54d6cc0a7"
   }
  }
 },
 "nbformat": 4,
 "nbformat_minor": 4
}
