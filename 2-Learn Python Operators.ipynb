{
 "cells": [
  {
   "attachments": {},
   "cell_type": "markdown",
   "metadata": {},
   "source": [
    "<h1> Learn Python Operators </h1>\n",
    "\n",
    "\n",
    "<b>Web Resources</b>\n",
    "<br> <a href='https://www.geeksforgeeks.org/basic-operators-python/'>Basic Operators in Python</a>\n",
    "\n",
    "\n",
    "#### What are Operators?####\n",
    "\n",
    "Python operators are symbols that perform an operation on one or more operands. An operand is a variable or a value on which we perform the operation.\n",
    "\n",
    "\n",
    "#### Why use Operators?####\n",
    "\n",
    "Operators can manipulate individual items and return a result. Operators manipulate individual items by conducting mathematical operations and/or returning a Boolean value (True or False).\n",
    "\n",
    "\n",
    "#### What are Mathematical Operators?####\n",
    "\n",
    "Mathematical operators are basic arithmetic symbols used to perform addition, subtraction, multiplication, and more. \n",
    "\n",
    "|Operator                  |Description                                                                        |Example |\n",
    "|-------------------------|-------------------------------------------------------------------------------|-------------|\n",
    "|Assignment (=)        |Assigns a variable a value. |(x = 5)       |\n",
    "|+       | Addition.                   |(1 + 2) |\n",
    "|-         | Subtraction. | (2 - 1)\n",
    "|* | Multiplication. |(1 * 2) |\n",
    "|/             |Division. |(10 / 5)|\n",
    "|% | Modulus. |(15 % 2)\n",
    "\n",
    "\n",
    "#### What are Comparison Operators?####\n",
    "\n",
    "Comparison operators are used to compare values, they either return True or False.\n",
    "\n",
    "|Operator                  |Description                                                                        |Example |\n",
    "|-------------------------|-------------------------------------------------------------------------------|-------------|\n",
    "|Equal to (==)        |If the values of the two operands are equal, then the condition becomes true. |(a == a) is True.       |\n",
    "|Not Equal to (!=)       |If the values of the two operands are not equal, then the condition becomes true.                    |(a != b) is True.|\n",
    "|Greater Than, Greater than or Equal to (>, >=)          |If the value of the left operand is greater than the value of the right operand then the condition becomes true. | (2>1) is True.\n",
    "|Less Than, Less than or Equal to (<, <=) |If the value of the left operand is less than the value of the right operand then the condition becomes true. |(1<2) is True.|\n",
    "|and              |Returns True if all statements are True. |(1<2 and 2>1) is True.|\n",
    "|or | Returns True if one of the statements is True. |(1<2 or 2<4) is True.\n",
    "|not | Reverse the result, returns False if the statement is True.| not(1<5 and 5>3) is not True.\n",
    "\n",
    "#### What are Membership Operators?####\n",
    "\n",
    "Membership operators are used to test whether a value or a variable is found in a sequence (string, tuple, list, set or dictionary). These operators become essential when we discuss loops.\n",
    "\n",
    "|Operator                  |Description                                                                        |Example |\n",
    "|-------------------------|-------------------------------------------------------------------------------|-------------|\n",
    "|in| Returns True if a sequence with the specified value is present in the object. | 3 in [1,2,3] is True.\n",
    "|not in| Returns True if a sequence with the specified value is not present in the object. | 4 not in [1,2,3] is True."
   ]
  },
  {
   "cell_type": "markdown",
   "metadata": {},
   "source": [
    "<h2> Operators on Numbers </h2>\n",
    "Numerical operations in Python are similar to Excel or any other programming language.\n",
    "\n",
    "You can use these operations to do basic arithmetic."
   ]
  },
  {
   "cell_type": "code",
   "execution_count": null,
   "metadata": {},
   "outputs": [],
   "source": [
    "y = 15 % 10\n",
    "y"
   ]
  },
  {
   "cell_type": "code",
   "execution_count": null,
   "metadata": {},
   "outputs": [],
   "source": [
    "j = (1.05 * 1.076) ** 2\n",
    "j"
   ]
  },
  {
   "cell_type": "code",
   "execution_count": null,
   "metadata": {},
   "outputs": [],
   "source": [
    "x = 126 * 0.13\n",
    "x"
   ]
  },
  {
   "cell_type": "markdown",
   "metadata": {},
   "source": [
    "<h3> Comparison Operators always result in a Boolean (True/False)</h3>"
   ]
  },
  {
   "cell_type": "code",
   "execution_count": null,
   "metadata": {},
   "outputs": [],
   "source": [
    "y == x"
   ]
  },
  {
   "cell_type": "code",
   "execution_count": null,
   "metadata": {},
   "outputs": [],
   "source": [
    "j < 7"
   ]
  },
  {
   "cell_type": "code",
   "execution_count": null,
   "metadata": {},
   "outputs": [],
   "source": [
    "x > y and j < 5"
   ]
  },
  {
   "cell_type": "markdown",
   "metadata": {},
   "source": [
    "<h2> Operators on Strings</h2>\n",
    "We can also use these operators on strings.\n",
    "    \n",
    "    \n",
    "<h5> The addition sign (+) will concatenate a string.</h5>"
   ]
  },
  {
   "cell_type": "code",
   "execution_count": null,
   "metadata": {},
   "outputs": [],
   "source": []
  },
  {
   "cell_type": "code",
   "execution_count": null,
   "metadata": {},
   "outputs": [],
   "source": [
    "# * in strings\n"
   ]
  },
  {
   "cell_type": "markdown",
   "metadata": {},
   "source": [
    "<h5> not reverses the result, meaning it returns True if the statement is False. </h5>"
   ]
  },
  {
   "cell_type": "code",
   "execution_count": null,
   "metadata": {},
   "outputs": [],
   "source": []
  },
  {
   "cell_type": "markdown",
   "metadata": {},
   "source": [
    "<h5> not in returns True if a sequence with the specified value is not present in the object. </h5>"
   ]
  },
  {
   "cell_type": "code",
   "execution_count": null,
   "metadata": {},
   "outputs": [],
   "source": []
  }
 ],
 "metadata": {
  "kernelspec": {
   "display_name": "Python 3",
   "language": "python",
   "name": "python3"
  },
  "language_info": {
   "codemirror_mode": {
    "name": "ipython",
    "version": 3
   },
   "file_extension": ".py",
   "mimetype": "text/x-python",
   "name": "python",
   "nbconvert_exporter": "python",
   "pygments_lexer": "ipython3",
   "version": "3.11.0"
  },
  "vscode": {
   "interpreter": {
    "hash": "c261aea317cc0286b3b3261fbba9abdec21eaa57589985bb7a274bf54d6cc0a7"
   }
  }
 },
 "nbformat": 4,
 "nbformat_minor": 4
}
